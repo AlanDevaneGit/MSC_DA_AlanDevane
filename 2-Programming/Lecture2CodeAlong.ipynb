{
 "cells": [
  {
   "cell_type": "code",
   "execution_count": 1,
   "id": "31395bd6-5a16-404a-a40e-24dd728988ca",
   "metadata": {},
   "outputs": [
    {
     "data": {
      "text/plain": [
       "False"
      ]
     },
     "execution_count": 1,
     "metadata": {},
     "output_type": "execute_result"
    }
   ],
   "source": [
    "True\n",
    "False"
   ]
  },
  {
   "cell_type": "code",
   "execution_count": 2,
   "id": "aaff0054-53bd-40c1-a38c-4b42cb3f91ca",
   "metadata": {},
   "outputs": [
    {
     "data": {
      "text/plain": [
       "True"
      ]
     },
     "execution_count": 2,
     "metadata": {},
     "output_type": "execute_result"
    }
   ],
   "source": [
    "5 == 5"
   ]
  },
  {
   "cell_type": "code",
   "execution_count": 3,
   "id": "3fc59f8e-fe09-4044-8f73-c5bcef8e15f4",
   "metadata": {},
   "outputs": [
    {
     "data": {
      "text/plain": [
       "False"
      ]
     },
     "execution_count": 3,
     "metadata": {},
     "output_type": "execute_result"
    }
   ],
   "source": [
    "5 == 7"
   ]
  },
  {
   "cell_type": "code",
   "execution_count": 4,
   "id": "fe0db8bc-bd93-41f2-b84d-22426511143d",
   "metadata": {},
   "outputs": [
    {
     "data": {
      "text/plain": [
       "True"
      ]
     },
     "execution_count": 4,
     "metadata": {},
     "output_type": "execute_result"
    }
   ],
   "source": [
    "5 < 6\n"
   ]
  },
  {
   "cell_type": "code",
   "execution_count": 5,
   "id": "58a64f4a-a398-433f-8d59-54e107389856",
   "metadata": {},
   "outputs": [
    {
     "data": {
      "text/plain": [
       "False"
      ]
     },
     "execution_count": 5,
     "metadata": {},
     "output_type": "execute_result"
    }
   ],
   "source": [
    "5 > 6"
   ]
  },
  {
   "cell_type": "code",
   "execution_count": 6,
   "id": "1ff3d04d-723f-4601-8ef5-7addf5eaaf22",
   "metadata": {},
   "outputs": [
    {
     "data": {
      "text/plain": [
       "False"
      ]
     },
     "execution_count": 6,
     "metadata": {},
     "output_type": "execute_result"
    }
   ],
   "source": [
    "5 >= 6"
   ]
  },
  {
   "cell_type": "code",
   "execution_count": 7,
   "id": "a6920a07-73df-4b95-9ad5-7dfa0ffcea3f",
   "metadata": {},
   "outputs": [
    {
     "data": {
      "text/plain": [
       "bool"
      ]
     },
     "execution_count": 7,
     "metadata": {},
     "output_type": "execute_result"
    }
   ],
   "source": [
    "type(True)"
   ]
  },
  {
   "cell_type": "code",
   "execution_count": 8,
   "id": "d7883c0a-013e-4614-b2f8-3f65fe082dc6",
   "metadata": {},
   "outputs": [
    {
     "data": {
      "text/plain": [
       "True"
      ]
     },
     "execution_count": 8,
     "metadata": {},
     "output_type": "execute_result"
    }
   ],
   "source": [
    "5 != 6"
   ]
  },
  {
   "cell_type": "code",
   "execution_count": 9,
   "id": "032bbec6-cba8-41fd-8ecf-ccae61d15700",
   "metadata": {},
   "outputs": [
    {
     "ename": "SyntaxError",
     "evalue": "cannot assign to True (364383922.py, line 1)",
     "output_type": "error",
     "traceback": [
      "\u001b[0;36m  Input \u001b[0;32mIn [9]\u001b[0;36m\u001b[0m\n\u001b[0;31m    True = 4\u001b[0m\n\u001b[0m    ^\u001b[0m\n\u001b[0;31mSyntaxError\u001b[0m\u001b[0;31m:\u001b[0m cannot assign to True\n"
     ]
    }
   ],
   "source": [
    "True = 4"
   ]
  },
  {
   "cell_type": "code",
   "execution_count": 10,
   "id": "ad862581-b989-48e0-972e-3fdd7468caed",
   "metadata": {},
   "outputs": [],
   "source": [
    "# Sytanx Highlighting is handy to see differences between keywords/ normal text\n"
   ]
  },
  {
   "cell_type": "code",
   "execution_count": 11,
   "id": "573ab209-0664-4ae4-b0e5-6d031e5bb9a1",
   "metadata": {},
   "outputs": [
    {
     "name": "stdout",
     "output_type": "stream",
     "text": [
      "Howdy\n"
     ]
    }
   ],
   "source": [
    "if 5 < 6:\n",
    "    print (\"Howdy\")"
   ]
  },
  {
   "cell_type": "code",
   "execution_count": 12,
   "id": "3216dbfa-faef-4348-b8f5-7b799eb5c340",
   "metadata": {},
   "outputs": [],
   "source": [
    "if 7 < 6: \n",
    "    print (\"Hello\")"
   ]
  },
  {
   "cell_type": "code",
   "execution_count": 13,
   "id": "ef385a91-6962-4cb9-8122-f4dbddb8f339",
   "metadata": {},
   "outputs": [
    {
     "name": "stdout",
     "output_type": "stream",
     "text": [
      "Hi There\n"
     ]
    }
   ],
   "source": [
    "if True:\n",
    "    print (\"Hi There\")"
   ]
  },
  {
   "cell_type": "code",
   "execution_count": 14,
   "id": "eb9577f7-5a41-439e-ae7e-57db655f1687",
   "metadata": {},
   "outputs": [],
   "source": [
    "if False:\n",
    "    print (\"Test\")"
   ]
  },
  {
   "cell_type": "code",
   "execution_count": 15,
   "id": "6db770ef-9b75-4173-b4af-317f20e5f409",
   "metadata": {},
   "outputs": [],
   "source": [
    "# When not numerical, Its looking at the statement and checks if true/false\n",
    "# When we do \"5 < 6\" , we ask Python is 5 less than 6. It is, so runs everyhting thats idented"
   ]
  },
  {
   "cell_type": "code",
   "execution_count": 16,
   "id": "44fa14ea-323f-417f-bbce-30a84c8d56a9",
   "metadata": {},
   "outputs": [],
   "source": [
    "a = 4"
   ]
  },
  {
   "cell_type": "code",
   "execution_count": 17,
   "id": "39906a4d-51ee-459b-bcdf-60d48dee91b3",
   "metadata": {},
   "outputs": [
    {
     "name": "stdout",
     "output_type": "stream",
     "text": [
      "2.5\n"
     ]
    }
   ],
   "source": [
    "if a > 0:\n",
    "    print (10/a)"
   ]
  },
  {
   "cell_type": "code",
   "execution_count": 18,
   "id": "f5b6b31f-e015-443d-bb11-cb6c2c62d92e",
   "metadata": {},
   "outputs": [],
   "source": [
    "if 4>10:\n",
    "    print (4*10)"
   ]
  },
  {
   "cell_type": "code",
   "execution_count": 19,
   "id": "3797419d-6611-4c3d-8653-6277d3bf4a83",
   "metadata": {},
   "outputs": [
    {
     "name": "stdout",
     "output_type": "stream",
     "text": [
      "40\n"
     ]
    }
   ],
   "source": [
    "if 4<10:\n",
    "    print (4*10)"
   ]
  },
  {
   "cell_type": "code",
   "execution_count": 20,
   "id": "891ebdf2-c6dc-45c9-bbba-c4995603df81",
   "metadata": {},
   "outputs": [],
   "source": [
    "#^ sample if statements"
   ]
  },
  {
   "cell_type": "code",
   "execution_count": 21,
   "id": "05e9e43c-d6c8-4b25-8d3b-cb29c2f6721a",
   "metadata": {},
   "outputs": [
    {
     "name": "stdout",
     "output_type": "stream",
     "text": [
      "small number\n"
     ]
    }
   ],
   "source": [
    "if a > 10:\n",
    "    print (\"big number\")\n",
    "else:\n",
    "    print(\"small number\")\n",
    "    "
   ]
  },
  {
   "cell_type": "code",
   "execution_count": 22,
   "id": "61bb3548-cbff-4442-ab2e-341692bdc532",
   "metadata": {},
   "outputs": [],
   "source": [
    "a = 2000\n"
   ]
  },
  {
   "cell_type": "code",
   "execution_count": 24,
   "id": "5ce8a35a-c3fb-4dbe-a7f2-ae3fccf1ec30",
   "metadata": {},
   "outputs": [],
   "source": [
    "# sample else statement"
   ]
  },
  {
   "cell_type": "code",
   "execution_count": 25,
   "id": "7d5fc3e6-83bf-4cf2-9c7f-936193f1a380",
   "metadata": {},
   "outputs": [
    {
     "name": "stdout",
     "output_type": "stream",
     "text": [
      "big number\n"
     ]
    }
   ],
   "source": [
    "if a > 10:\n",
    "    print (\"big number\")\n",
    "else:\n",
    "    print(\"small number\")\n",
    "    "
   ]
  },
  {
   "cell_type": "code",
   "execution_count": 27,
   "id": "b0699bf4-a4e0-4508-a51b-8521510d015a",
   "metadata": {},
   "outputs": [
    {
     "name": "stdout",
     "output_type": "stream",
     "text": [
      "1\n"
     ]
    }
   ],
   "source": [
    "if a > 10:\n",
    "    print(1)\n",
    "elif a == 10:\n",
    "    print(\"Else If\")\n",
    "else:\n",
    "    print(\"Small number\")"
   ]
  },
  {
   "cell_type": "code",
   "execution_count": 28,
   "id": "acce692d-66b7-4dff-88b1-385c5e0a94a8",
   "metadata": {},
   "outputs": [],
   "source": [
    "e = 6\n"
   ]
  },
  {
   "cell_type": "code",
   "execution_count": 32,
   "id": "a34bd91f-0f89-429a-90ed-eacfabf6c2a3",
   "metadata": {},
   "outputs": [
    {
     "name": "stdout",
     "output_type": "stream",
     "text": [
      "Weekend\n"
     ]
    }
   ],
   "source": [
    "day = \"Monday\"\n",
    "if day == \"Saturday\" or \"Sunday\":\n",
    "    print(\"Weekend\")\n",
    "else: \n",
    "    print(\"Weekday\")"
   ]
  },
  {
   "cell_type": "code",
   "execution_count": 34,
   "id": "f8746282-9476-4265-97ae-f8e3c0e2f7ee",
   "metadata": {},
   "outputs": [],
   "source": [
    "day = \"Tuesday\"\n",
    "# Go back over this!!"
   ]
  },
  {
   "cell_type": "code",
   "execution_count": 37,
   "id": "7d6d649b-9a10-4022-aa4c-bc5ac77e8221",
   "metadata": {},
   "outputs": [
    {
     "name": "stdout",
     "output_type": "stream",
     "text": [
      "Weekend\n"
     ]
    }
   ],
   "source": [
    "\n",
    "if day == \"Saturday\" or \"Sunday\":\n",
    "    print(\"Weekend\")\n",
    "else: \n",
    "    print(\"Weekday\")"
   ]
  },
  {
   "cell_type": "code",
   "execution_count": 40,
   "id": "d33dd48c-ccf8-4b4c-ba09-c78aa76521b9",
   "metadata": {},
   "outputs": [
    {
     "name": "stdout",
     "output_type": "stream",
     "text": [
      "SAT\n"
     ]
    }
   ],
   "source": [
    "if day != \"Saturday\":\n",
    "    print (\"SAT\")\n",
    "    if day == \"Sunday\":  #Nested if\n",
    "        print (\"Sunday\")"
   ]
  },
  {
   "cell_type": "code",
   "execution_count": 41,
   "id": "f7cabf43-1c7e-4531-bc95-e7f473765d15",
   "metadata": {},
   "outputs": [],
   "source": [
    "b = 0"
   ]
  },
  {
   "cell_type": "code",
   "execution_count": 42,
   "id": "c5f96ecb-cb0a-4d34-a846-6bcf23c71bc3",
   "metadata": {},
   "outputs": [],
   "source": [
    "if b>0 and 4+b> 2:\n",
    "    print(b)"
   ]
  },
  {
   "cell_type": "code",
   "execution_count": 43,
   "id": "ec3ff88b-3f14-41e2-8c1d-7b34e3b810a6",
   "metadata": {},
   "outputs": [],
   "source": [
    "b = 1"
   ]
  },
  {
   "cell_type": "code",
   "execution_count": 44,
   "id": "634a3d84-f8d9-47b8-aba4-b4ad4a52bbe5",
   "metadata": {},
   "outputs": [
    {
     "name": "stdout",
     "output_type": "stream",
     "text": [
      "1\n"
     ]
    }
   ],
   "source": [
    "if b>0 and 4+b> 2:\n",
    "    print (b)"
   ]
  },
  {
   "cell_type": "code",
   "execution_count": 45,
   "id": "f5e907f1-1969-4b8c-849f-2c074a88a9b9",
   "metadata": {},
   "outputs": [],
   "source": [
    "# When in doubt do use brackets, makes it more readable"
   ]
  },
  {
   "cell_type": "code",
   "execution_count": 49,
   "id": "d37bc8d8-e073-442b-9e54-6ac52f2ce23a",
   "metadata": {},
   "outputs": [
    {
     "name": "stdin",
     "output_type": "stream",
     "text": [
      "What day of the week is it? Monday\n"
     ]
    },
    {
     "name": "stdout",
     "output_type": "stream",
     "text": [
      "Weekday\n"
     ]
    }
   ],
   "source": [
    "day = input(\"What day of the week is it?\")\n",
    "if day == \"Saturday\" or day == \"Sunday\":\n",
    "    print (\"Weekend\")\n",
    "else:\n",
    "    print (\"Weekday\")"
   ]
  },
  {
   "cell_type": "code",
   "execution_count": 48,
   "id": "9cbdff71-2fed-459b-b496-f1dbbc701a83",
   "metadata": {},
   "outputs": [
    {
     "name": "stdout",
     "output_type": "stream",
     "text": [
      "Cannot compute\n"
     ]
    }
   ],
   "source": [
    "try:\n",
    "    print(4/0)\n",
    "except:\n",
    "    print(\"Cannot compute\")"
   ]
  },
  {
   "cell_type": "code",
   "execution_count": 51,
   "id": "a0bbf158-f8ad-4e31-92a5-2e34b99fe594",
   "metadata": {},
   "outputs": [
    {
     "name": "stdout",
     "output_type": "stream",
     "text": [
      "Hello\n",
      "Cannot compute\n"
     ]
    }
   ],
   "source": [
    "try:\n",
    "    print(\"Hello\")\n",
    "    try:\n",
    "        print(4/0)\n",
    "    except:\n",
    "        print(\"Cannot compute\")\n",
    "        \n",
    "except:\n",
    "    print(\"Goodbye\")"
   ]
  },
  {
   "cell_type": "code",
   "execution_count": 52,
   "id": "9ba775de-4b16-46a2-8398-8756e2f47fef",
   "metadata": {},
   "outputs": [],
   "source": [
    "# 4/0 causes an error"
   ]
  },
  {
   "cell_type": "code",
   "execution_count": 53,
   "id": "be24ca0c-1af2-4529-b656-4b4d7bf997fb",
   "metadata": {},
   "outputs": [],
   "source": [
    "# So there is 2 try/excepts, the first Try is successfull, so its excpet is not working\n",
    "# The print 4/0 does not work, so it does the except"
   ]
  },
  {
   "cell_type": "code",
   "execution_count": 54,
   "id": "f3c152d0-0648-40c1-a722-1a99cf86a915",
   "metadata": {},
   "outputs": [],
   "source": [
    "import csv\n"
   ]
  },
  {
   "cell_type": "code",
   "execution_count": 56,
   "id": "6d3fb6a8-23d8-4ff7-9a95-fcef67a205f2",
   "metadata": {},
   "outputs": [
    {
     "name": "stdout",
     "output_type": "stream",
     "text": [
      "This wasnt found. Please check if files exists\n"
     ]
    }
   ],
   "source": [
    "try:\n",
    "    csv.read(\"test.csv\")\n",
    "except:\n",
    "    print(\"This wasnt found. Please check if files exists\")"
   ]
  },
  {
   "cell_type": "code",
   "execution_count": 57,
   "id": "4871c810-03ed-4323-8471-930794d5395b",
   "metadata": {},
   "outputs": [],
   "source": [
    "# shift tab - gives you a real help and explains the functions\n"
   ]
  },
  {
   "cell_type": "code",
   "execution_count": 58,
   "id": "b22cfd00-1455-4849-ae53-a8b490c1cef2",
   "metadata": {},
   "outputs": [],
   "source": [
    "quotient = 7 //3"
   ]
  },
  {
   "cell_type": "code",
   "execution_count": 59,
   "id": "32507e98-799d-44c7-a31f-ae2b617a25c5",
   "metadata": {},
   "outputs": [],
   "source": [
    "remainder = 7 % 3"
   ]
  },
  {
   "cell_type": "code",
   "execution_count": 61,
   "id": "221cf69c-7e45-46e2-9f2f-4aa9d25c31c2",
   "metadata": {},
   "outputs": [
    {
     "name": "stdout",
     "output_type": "stream",
     "text": [
      "2\n"
     ]
    }
   ],
   "source": [
    "print (quotient)"
   ]
  },
  {
   "cell_type": "code",
   "execution_count": 62,
   "id": "ce82cede-482e-4a79-9f63-c6b5e1af498b",
   "metadata": {},
   "outputs": [
    {
     "name": "stdout",
     "output_type": "stream",
     "text": [
      "1\n"
     ]
    }
   ],
   "source": [
    "print (remainder)"
   ]
  },
  {
   "cell_type": "code",
   "execution_count": 63,
   "id": "aa4c64d6-0322-4bb0-a839-f813b6fcab2c",
   "metadata": {},
   "outputs": [],
   "source": [
    "# Do exercises for Chapter 1, 2 and 3 for next week. Not being asked but will speed up my Python"
   ]
  },
  {
   "cell_type": "code",
   "execution_count": null,
   "id": "b2dfdb8c-d4b6-4466-a24d-df1d34d9ec29",
   "metadata": {},
   "outputs": [],
   "source": []
  }
 ],
 "metadata": {
  "kernelspec": {
   "display_name": "Python 3 (ipykernel)",
   "language": "python",
   "name": "python3"
  },
  "language_info": {
   "codemirror_mode": {
    "name": "ipython",
    "version": 3
   },
   "file_extension": ".py",
   "mimetype": "text/x-python",
   "name": "python",
   "nbconvert_exporter": "python",
   "pygments_lexer": "ipython3",
   "version": "3.9.12"
  }
 },
 "nbformat": 4,
 "nbformat_minor": 5
}
